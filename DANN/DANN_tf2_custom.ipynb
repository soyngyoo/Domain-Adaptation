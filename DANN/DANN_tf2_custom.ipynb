{
 "cells": [
  {
   "cell_type": "code",
   "execution_count": 1,
   "metadata": {
    "id": "qYaxtdEtFPrT"
   },
   "outputs": [],
   "source": [
    "import random,os,csv,glob,math,logging\n",
    "import json\n",
    "import numpy as np\n",
    "import pandas as pd\n",
    "import time\n",
    "\n",
    "import cv2 as cv\n",
    "from sklearn.manifold import TSNE\n",
    "import scipy.io as sio\n",
    "from os.path import dirname, join as pjoin\n",
    "import scipy.io as sio\n",
    "\n",
    "from matplotlib import pyplot as plt\n",
    "from IPython.display import display\n",
    "import matplotlib.pyplot as plt\n",
    "import numpy as np\n",
    "import matplotlib.mlab as mlab\n",
    "import matplotlib.gridspec as gridspec\n",
    "from mpl_toolkits.mplot3d import Axes3D\n",
    "from mpl_toolkits import mplot3d\n",
    "import tqdm\n",
    "from sklearn.preprocessing import StandardScaler, MinMaxScaler\n",
    "from sklearn.preprocessing import OneHotEncoder\n",
    "from sklearn.utils import shuffle\n",
    "from sklearn.metrics import mean_absolute_error,mean_squared_error\n",
    "from sklearn.metrics import r2_score\n",
    "\n",
    "import tensorflow as tf\n",
    "from tensorflow.keras import backend as K\n",
    "from tensorflow.keras.utils import to_categorical\n",
    "from tensorflow.keras.models import Sequential\n",
    "from tensorflow.keras.layers import Dense, Flatten, Reshape, Concatenate,LeakyReLU,Input, Dropout,Lambda,Activation, BatchNormalization\n",
    "from tensorflow.keras.layers import MaxPooling1D,Conv1D,GlobalAveragePooling1D,multiply\n",
    "from tensorflow.keras.layers import Conv3D, MaxPooling3D\n",
    "\n",
    "from tensorflow.keras.optimizers import SGD, Adam\n",
    "from tensorflow.keras import metrics\n",
    "from tensorflow.keras import models, layers, optimizers  \n",
    "from tensorflow.keras.callbacks import TensorBoard  \n",
    "from tensorflow.keras.models import Model,load_model\n",
    "from tensorflow.keras.utils import plot_model\n",
    "\n",
    "from tensorflow.keras.callbacks import EarlyStopping, ModelCheckpoint\n",
    "from tensorflow.keras.optimizers import SGD, Adam\n",
    "from sklearn.preprocessing import MinMaxScaler\n",
    "import sys\n",
    "\n",
    "mod = sys.modules[__name__]\n",
    "scaler = MinMaxScaler()"
   ]
  },
  {
   "cell_type": "code",
   "execution_count": 58,
   "metadata": {},
   "outputs": [
    {
     "name": "stdout",
     "output_type": "stream",
     "text": [
      "2.2.0\n"
     ]
    }
   ],
   "source": [
    "print(tf.__version__)"
   ]
  },
  {
   "cell_type": "code",
   "execution_count": 2,
   "metadata": {
    "id": "YLzhfEcWFPrU"
   },
   "outputs": [],
   "source": [
    "def plot_embedding(X, y, d, title=None):\n",
    "    \"\"\"Plot an embedding X with the class label y colored by the domain d.\"\"\"\n",
    "    x_min, x_max = np.min(X, 0), np.max(X, 0)\n",
    "    X = (X - x_min) / (x_max - x_min)\n",
    "\n",
    "    # Plot colors numbers\n",
    "    plt.figure(figsize=(5,5))\n",
    "    ax = plt.subplot(111)\n",
    "    for i in tqdm(range(X.shape[0])):\n",
    "        # plot colored number\n",
    "        if d[i] == 0:\n",
    "            color = 'green'\n",
    "        elif d[i] == 1:\n",
    "            color = 'purple'\n",
    "        plt.text(X[i, 0], X[i, 1], str(y[i]),\n",
    "                 color=color,\n",
    "                 fontdict={'weight': 'bold', 'size': 9})\n",
    "    plt.xticks([]), plt.yticks([])\n",
    "    if title is not None:\n",
    "        plt.title(title)\n",
    "    plt.tight_layout()\n",
    "    plt.show()"
   ]
  },
  {
   "cell_type": "code",
   "execution_count": 3,
   "metadata": {
    "id": "ZFOGRvCMFPrU"
   },
   "outputs": [],
   "source": [
    "def voxel_load1(path,names):\n",
    "    vox_list=[]\n",
    "    for i in tqdm.tqdm(range(len(names))):\n",
    "        vox = np.load(path+names[i]+'.npz')\n",
    "        voxel = vox['x']\n",
    "        if voxel.shape[0] == 32:\n",
    "            voxel[:,:,:10]=0\n",
    "        else:\n",
    "            voxel[:,:,:20]=0\n",
    "        vox_list.append(voxel)\n",
    "    vox_list = np.asarray(vox_list)\n",
    "    vox_sp = vox_list.shape\n",
    "    vox_list = vox_list.reshape(vox_sp[0],vox_sp[1],vox_sp[2],vox_sp[3],1)\n",
    "    print(np.shape(vox_list))\n",
    "    return vox_list\n",
    "\n",
    "def voxel_load2(path,names):\n",
    "    vox_list=[]\n",
    "    for i in tqdm.tqdm(range(len(names))):\n",
    "        mat_contents = sio.loadmat(path+names[i]+'.mat')\n",
    "        voxel = mat_contents['Volume1']\n",
    "        if voxel.shape[0] == 32:\n",
    "            voxel[:,:,:10]=0\n",
    "        else:\n",
    "            voxel[:,:,:20]=0\n",
    "        vox_list.append(voxel)\n",
    "        \n",
    "    vox_list = np.asarray(vox_list)\n",
    "    vox_sp = vox_list.shape\n",
    "    vox_list = vox_list.reshape(vox_sp[0],vox_sp[1],vox_sp[2],vox_sp[3],1)\n",
    "    print(np.shape(vox_list))\n",
    "    return vox_list\n",
    "\n",
    "def df_load(df_path,df_type):\n",
    "    df = pd.read_csv(df_path)\n",
    "    data = df[df_type]\n",
    "    data = np.asarray(data)\n",
    "    print(df_type,data.shape)\n",
    "    return data\n"
   ]
  },
  {
   "cell_type": "code",
   "execution_count": 4,
   "metadata": {
    "id": "Nv3wsms7FvQc"
   },
   "outputs": [],
   "source": [
    "src = './WHEEL_data/'"
   ]
  },
  {
   "cell_type": "code",
   "execution_count": 5,
   "metadata": {
    "id": "X4pDruFvFPrU"
   },
   "outputs": [],
   "source": [
    "df_concept = pd.read_csv(src+'LABEL/concept/concept_label.csv')\n",
    "df_detailed = pd.read_csv(src+'LABEL/chassis/chassis_label.csv')"
   ]
  },
  {
   "cell_type": "code",
   "execution_count": 6,
   "metadata": {
    "id": "s6plLBJnFPrU"
   },
   "outputs": [],
   "source": [
    "concept_names = df_concept['name']\n",
    "concept_stiff = np.array(df_concept['stiffness(n/m)'])\n",
    "\n",
    "detailed_names = df_detailed['name']\n",
    "detailed_stiff = np.array(df_detailed['stiffness(n/m)'])"
   ]
  },
  {
   "cell_type": "code",
   "execution_count": 7,
   "metadata": {
    "id": "5PjSWzw-FPrU"
   },
   "outputs": [],
   "source": [
    "stiff = np.concatenate([concept_stiff,detailed_stiff])"
   ]
  },
  {
   "cell_type": "code",
   "execution_count": 8,
   "metadata": {
    "id": "SUrrYsSbFPrU"
   },
   "outputs": [],
   "source": [
    "scaler = MinMaxScaler()\n",
    "scaler.fit(stiff.reshape(-1,1))\n",
    "concept_stiff_sc = scaler.transform(concept_stiff.reshape((-1, 1)))\n",
    "detailed_stiff_sc = scaler.transform(detailed_stiff.reshape(-1, 1))"
   ]
  },
  {
   "cell_type": "code",
   "execution_count": 9,
   "metadata": {
    "colab": {
     "base_uri": "https://localhost:8080/",
     "height": 370
    },
    "id": "X53hEAHpFPrU",
    "outputId": "3bad1262-fab3-4657-dbd5-644724156a4d"
   },
   "outputs": [
    {
     "data": {
      "text/plain": [
       "(array([ 1.,  2.,  7.,  8.,  9., 13.,  9.,  7.,  7.,  2.]),\n",
       " array([2.05818745e+08, 2.29551030e+08, 2.53283314e+08, 2.77015599e+08,\n",
       "        3.00747884e+08, 3.24480169e+08, 3.48212454e+08, 3.71944739e+08,\n",
       "        3.95677024e+08, 4.19409308e+08, 4.43141593e+08]),\n",
       " <BarContainer object of 10 artists>)"
      ]
     },
     "execution_count": 9,
     "metadata": {},
     "output_type": "execute_result"
    },
    {
     "data": {
      "image/png": "[encoded data removed]",
      "text/plain": [
       "<Figure size 432x288 with 1 Axes>"
      ]
     },
     "metadata": {
      "needs_background": "light"
     },
     "output_type": "display_data"
    }
   ],
   "source": [
    "plt.hist(concept_stiff)\n",
    "plt.hist(detailed_stiff)"
   ]
  },
  {
   "cell_type": "code",
   "execution_count": 10,
   "metadata": {
    "colab": {
     "base_uri": "https://localhost:8080/"
    },
    "id": "UEDhE-uHFPrV",
    "outputId": "02a86f8a-431a-4655-a083-17b067a3a342"
   },
   "outputs": [
    {
     "name": "stderr",
     "output_type": "stream",
     "text": [
      "100%|██████████| 1102/1102 [00:00<00:00, 1153.95it/s]\n",
      "100%|██████████| 65/65 [00:00<00:00, 1378.52it/s]\n",
      " 22%|██▏       | 239/1102 [00:00<00:00, 2382.11it/s]"
     ]
    },
    {
     "name": "stdout",
     "output_type": "stream",
     "text": [
      "(1102, 64, 64, 64, 1)\n",
      "(65, 64, 64, 64, 1)\n"
     ]
    },
    {
     "name": "stderr",
     "output_type": "stream",
     "text": [
      "100%|██████████| 1102/1102 [00:00<00:00, 2327.93it/s]\n",
      "100%|██████████| 65/65 [00:00<00:00, 4312.06it/s]"
     ]
    },
    {
     "name": "stdout",
     "output_type": "stream",
     "text": [
      "(1102, 32, 32, 32, 1)\n",
      "(65, 32, 32, 32, 1)\n"
     ]
    },
    {
     "name": "stderr",
     "output_type": "stream",
     "text": [
      "\n"
     ]
    }
   ],
   "source": [
    "src2 = src+'INPUT/'\n",
    "vox64_concept  = voxel_load1(src2+'concept/Voxel_64/',concept_names)\n",
    "vox64_detailed = voxel_load2(src2+'chassis/voxel_64/',detailed_names)\n",
    "vox32_concept  = voxel_load1(src2+'concept/Voxel_32/',concept_names)\n",
    "vox32_detailed = voxel_load2(src2+'chassis/voxel_32/',detailed_names)"
   ]
  },
  {
   "cell_type": "code",
   "execution_count": 22,
   "metadata": {
    "id": "2Gct02vqFPrV"
   },
   "outputs": [],
   "source": [
    "vox_grid = 32\n",
    "trainX = getattr(mod,'vox{}_concept'.format(vox_grid))[:990]\n",
    "trainY = concept_stiff_sc[:990]\n",
    "testX = getattr(mod,'vox{}_concept'.format(vox_grid))[990:]\n",
    "testY = concept_stiff_sc[990:]\n",
    "\n",
    "trainDX = getattr(mod,'vox{}_detailed'.format(vox_grid))[:50]\n",
    "trainDY = detailed_stiff_sc[:50]\n",
    "testDX = getattr(mod,'vox{}_detailed'.format(vox_grid))[50:]\n",
    "testDY = detailed_stiff_sc[50:]"
   ]
  },
  {
   "cell_type": "code",
   "execution_count": 23,
   "metadata": {
    "colab": {
     "base_uri": "https://localhost:8080/",
     "height": 513
    },
    "id": "CCNBsqMlUGRi",
    "outputId": "674eab40-670a-4722-8f44-ce91537372e9"
   },
   "outputs": [
    {
     "data": {
      "image/png": "[encoded data removed]",
      "text/plain": [
       "<Figure size 432x288 with 1 Axes>"
      ]
     },
     "metadata": {
      "needs_background": "light"
     },
     "output_type": "display_data"
    },
    {
     "data": {
      "image/png": "[encoded data removed]",
      "text/plain": [
       "<Figure size 432x288 with 1 Axes>"
      ]
     },
     "metadata": {
      "needs_background": "light"
     },
     "output_type": "display_data"
    }
   ],
   "source": [
    "plt.hist(trainY,alpha = 0.5)\n",
    "plt.hist(testY,alpha = 0.5)\n",
    "plt.show()\n",
    "\n",
    "plt.hist(trainDY,alpha = 0.5)\n",
    "plt.hist(testDY,alpha = 0.5)\n",
    "plt.show()"
   ]
  },
  {
   "cell_type": "code",
   "execution_count": 24,
   "metadata": {
    "colab": {
     "base_uri": "https://localhost:8080/"
    },
    "id": "RKoR5bm0FPrV",
    "outputId": "e62a21fd-095a-4453-a70b-6b255c87424f"
   },
   "outputs": [
    {
     "name": "stdout",
     "output_type": "stream",
     "text": [
      "(1040, 32, 32, 32, 1) (1040, 1) (1040, 2)\n"
     ]
    }
   ],
   "source": [
    "combined_train_imgs = np.concatenate([trainX, trainDX])\n",
    "combined_train_labels = np.concatenate([trainY, trainDY])\n",
    "combined_train_domain = np.concatenate([np.tile([1., 0.], [len(trainX), 1]),\n",
    "                                        np.tile([0., 1.], [len(trainDX), 1])])\n",
    "print(combined_train_imgs.shape,combined_train_labels.shape,combined_train_domain.shape)"
   ]
  },
  {
   "cell_type": "code",
   "execution_count": 25,
   "metadata": {
    "colab": {
     "base_uri": "https://localhost:8080/"
    },
    "id": "-gmX19FVFPrV",
    "outputId": "448767a4-c1d0-44a5-faf9-757777cebde9"
   },
   "outputs": [
    {
     "name": "stdout",
     "output_type": "stream",
     "text": [
      "(127, 32, 32, 32, 1) (127, 1) (127, 2)\n"
     ]
    }
   ],
   "source": [
    "combined_test_imgs = np.concatenate([testX, testDX])\n",
    "combined_test_labels = np.concatenate([testY, testDY])\n",
    "combined_test_domain = np.concatenate([np.tile([1., 0.], [len(testX), 1]),\n",
    "                                        np.tile([0., 1.], [len(testDX), 1])])\n",
    "\n",
    "print(combined_test_imgs.shape,combined_test_labels.shape,combined_test_domain.shape)"
   ]
  },
  {
   "cell_type": "code",
   "execution_count": 26,
   "metadata": {
    "id": "3qYBi1-aFPrV"
   },
   "outputs": [],
   "source": [
    "def BLOCK(input_a,c):\n",
    "    added = Dense(c,\n",
    "                  use_bias=True, \n",
    "                  kernel_initializer='glorot_normal',\n",
    "                  bias_initializer='zeros', kernel_regularizer=None)(input_a)\n",
    "    added = BatchNormalization()(added)\n",
    "    return LeakyReLU(alpha=0.1)(added)\n",
    "def feature_extractor(inp):\n",
    "    x1 = Conv3D(16,(3,3,3),use_bias=True, kernel_initializer='glorot_normal', \n",
    "                  bias_initializer='zeros', kernel_regularizer=None,name='conv1')(inp)\n",
    "    x1 = BatchNormalization()(x1)\n",
    "    x1 = LeakyReLU(alpha=0.1)(x1)\n",
    "    x1 = Conv3D(16,(3,3,3),use_bias=True, kernel_initializer='glorot_normal', \n",
    "                  bias_initializer='zeros', kernel_regularizer=None,name='conv2')(x1)\n",
    "    x1 = BatchNormalization()(x1)\n",
    "    x1 = LeakyReLU(alpha=0.1)(x1)\n",
    "    x1 = MaxPooling3D((2,2,2),name='maxpooling1')(x1)\n",
    "    x1 = Dropout(rate=0.3)(x1)\n",
    "    x1 = Conv3D(32,(3,3,3),use_bias=True, kernel_initializer='glorot_normal', \n",
    "                  bias_initializer='zeros', kernel_regularizer=None,name='conv3')(x1)\n",
    "    x1 = BatchNormalization()(x1)\n",
    "    x1 = LeakyReLU(alpha=0.1)(x1)\n",
    "    x1 = Conv3D(32,(3,3,3),use_bias=True, kernel_initializer='glorot_normal', \n",
    "                  bias_initializer='zeros', kernel_regularizer=None,name='conv4')(x1)\n",
    "    x1 = BatchNormalization()(x1)\n",
    "    x1 = LeakyReLU(alpha=0.1)(x1)\n",
    "    x1 = MaxPooling3D((2,2,2),name='maxpooling2')(x1)\n",
    "    x1 = Dropout(rate=0.3)(x1)\n",
    "    x1 = Conv3D(64,(3,3,3),use_bias=True, kernel_initializer='glorot_normal', \n",
    "                  bias_initializer='zeros', kernel_regularizer=None,name='conv5')(x1)\n",
    "    x1 = BatchNormalization()(x1)\n",
    "    x1 = LeakyReLU(alpha=0.1)(x1)\n",
    "    x1 = Flatten()(x1)\n",
    "    return x1\n",
    "\n",
    "def regressor(inp):\n",
    "    added = BLOCK(inp,2000)\n",
    "    added = BLOCK(added,300)\n",
    "    added = BLOCK(added,150)\n",
    "    added = BLOCK(added,20)\n",
    "    added = BLOCK(added,16)\n",
    "    out = Dense(1,name='regressor_output')(added)\n",
    "    return out\n",
    "def discriminator(inp):\n",
    "    out = Dense(100, activation=\"relu\")(inp)\n",
    "    discriminator_output = Dense(2, activation=\"softmax\", name=\"discriminator_output\")(out)\n",
    "    return discriminator_output\n",
    "    \n",
    "def cnn():\n",
    "    inp =  Input(shape=(vox_grid,vox_grid,vox_grid,1))\n",
    "    feature_output = feature_extractor(inp)\n",
    "    regressor_output = regressor(feature_output)\n",
    "    model = Model(inputs=inp, outputs=regressor_output)\n",
    "    return model\n",
    "\n",
    "@tf.custom_gradient\n",
    "def GradientReversalOperator(x):\n",
    "\tdef grad(dy):\n",
    "\t\treturn -1 * dy\n",
    "\treturn x, grad\n",
    "\n",
    "class GradientReversalLayer(tf.keras.layers.Layer):\n",
    "\tdef __init__(self):\n",
    "\t\tsuper(GradientReversalLayer, self).__init__()\n",
    "\t\t\n",
    "\tdef call(self, inputs):\n",
    "\t\treturn GradientReversalOperator(inputs)\n",
    "  \n",
    "def dann():\n",
    "    inp =  Input(shape=(vox_grid,vox_grid,vox_grid,1))\n",
    "    feature_output = feature_extractor(inp)\n",
    "    regressor_output = regressor(feature_output)\n",
    "\n",
    "    grl_layer = GradientReversalLayer()(feature_output)\n",
    "    discriminator_output = discriminator(grl_layer)\n",
    "    model = tf.keras.models.Model(inputs=inp, outputs=[discriminator_output,regressor_output])\n",
    "    return model"
   ]
  },
  {
   "cell_type": "code",
   "execution_count": 27,
   "metadata": {
    "id": "xYNxrDmzFPrV"
   },
   "outputs": [],
   "source": [
    "def mape(y_true, y_pred): \n",
    "    return K.mean(K.abs((y_true - y_pred) / y_true))*100\n",
    "    \n",
    "def rmse(y_true, y_pred):\n",
    "    return K.sqrt(K.mean(K.square(y_pred - y_true)))\n",
    "\n",
    "def mape2(y_true, y_pred): \n",
    "    return np.mean(np.abs((y_true - y_pred) / y_true))*100\n",
    "    \n",
    "def rmse2(y_true, y_pred):\n",
    "    return np.sqrt(np.mean(np.square(y_pred - y_true)))\n",
    "\n",
    "def R2(y_true,y_pred):\n",
    "    SSE = np.mean(np.square(y_true - y_pred))\n",
    "    SSR = np.mean(np.square(y_true - np.var(y_true)))\n",
    "    result = 1 - (SSE/SSR)\n",
    "    return result\n",
    "\n",
    "model_dir = './model_checkpoint/'\n",
    "def mkdir(model_dir):\n",
    "    if not os.path.exists(model_dir):\n",
    "        os.mkdir(model_dir)"
   ]
  },
  {
   "cell_type": "code",
   "execution_count": 28,
   "metadata": {
    "id": "G-fdfm9J3S9I"
   },
   "outputs": [],
   "source": [
    "def training(model,model_name,dataset,loss):\n",
    "  #hyperparameters\n",
    "  lr= 0.0001\n",
    "  bata_1= 0.9\n",
    "  batch_size= 32\n",
    "  epochs= 1000\n",
    "  patience = 500\n",
    "  loss = loss\n",
    "  savename =  model_dir+model_name+\".h5\"\n",
    "\n",
    "  if 'dann' in model_name:\n",
    "    cp_callback = ModelCheckpoint(filepath = savename\n",
    "                                  ,monitor='val_regressor_output_loss'\n",
    "                                  ,save_best_only=True\n",
    "                                  ,save_weights_only=True)\n",
    "\n",
    "    early_stopping = EarlyStopping(monitor='val_regressor_output_loss'\n",
    "                                  ,patience=patience)\n",
    "    model.compile(optimizer=Adam(lr=lr)\n",
    "                  ,loss={'regressor_output': loss\n",
    "                         ,'discriminator_output': 'binary_crossentropy'})\n",
    "  else:\n",
    "    cp_callback = ModelCheckpoint(filepath = savename\n",
    "                                ,monitor='val_loss'\n",
    "                                ,save_best_only=True\n",
    "                                ,save_weights_only=False)\n",
    "\n",
    "    early_stopping = EarlyStopping(monitor='val_loss'\n",
    "                                ,patience=patience)\n",
    "    model.compile(loss=loss,optimizer=Adam(lr=lr))\n",
    "  \n",
    "  startTime = time.time()\n",
    "\n",
    "  #x_train,y_train = combined_train_imgs,combined_train_labels\n",
    "  x_train,y_train,x_valid,y_valid = dataset\n",
    "  #x_valid,y_valid = combined_test_imgs,combined_test_labels\n",
    "\n",
    "  hist = model.fit(x_train,y_train\n",
    "                  ,batch_size=batch_size\n",
    "                  ,epochs= epochs\n",
    "                  ,verbose= 1\n",
    "                  ,validation_data =(x_valid,y_valid)\n",
    "                  ,callbacks=[cp_callback, early_stopping])\n",
    "\n",
    "  endTime = time.time() - startTime\n",
    "  print(\"end time:\",round(endTime,2))\n",
    "  return model\n"
   ]
  },
  {
   "cell_type": "code",
   "execution_count": null,
   "metadata": {
    "id": "z_6Pc4iSnzmI",
    "scrolled": false
   },
   "outputs": [],
   "source": [
    "model_name = 'source_only_model_{}'.format(vox_grid)\n",
    "mkdir(model_dir)\n",
    "dataset = trainX,trainY,testX,testY\n",
    "source_only_model = training(cnn(),\n",
    "                             model_name,\n",
    "                             dataset,\n",
    "                             'mse')"
   ]
  },
  {
   "cell_type": "code",
   "execution_count": null,
   "metadata": {
    "id": "X5Wjs0YyGb6w",
    "scrolled": false
   },
   "outputs": [],
   "source": [
    "model_name = 'source_add_target_{}'.format(vox_grid)\n",
    "mkdir(model_dir)\n",
    "dataset = (combined_train_imgs,combined_train_labels\n",
    "           ,combined_test_imgs,combined_test_labels)\n",
    "source_add_target_model = training(cnn(),\n",
    "                             model_name,\n",
    "                             dataset,\n",
    "                             'mse')"
   ]
  },
  {
   "cell_type": "code",
   "execution_count": null,
   "metadata": {
    "colab": {
     "base_uri": "https://localhost:8080/"
    },
    "id": "YAct6vzYYk2y",
    "outputId": "e1e2e54b-7b57-4102-d646-3bdfc65d508a",
    "scrolled": false
   },
   "outputs": [],
   "source": [
    "model_name = 'dann_{}'.format(vox_grid)\n",
    "dataset = (combined_train_imgs,[combined_train_domain,combined_train_labels]\n",
    "          ,combined_test_imgs,[combined_test_domain,combined_test_labels])\n",
    "\n",
    "dann_model = training(dann(),\n",
    "                      model_name,\n",
    "                      dataset,\n",
    "                      'mse')"
   ]
  },
  {
   "cell_type": "code",
   "execution_count": 32,
   "metadata": {},
   "outputs": [],
   "source": [
    "del source_only_model\n",
    "del source_add_target_model\n",
    "del dann_model"
   ]
  },
  {
   "cell_type": "code",
   "execution_count": 38,
   "metadata": {
    "id": "KjqhNLVrihFi"
   },
   "outputs": [],
   "source": [
    "source_only_model = load_model('./model_checkpoint/source_only_model_{}.h5'.format(vox_grid))\n",
    "source_add_target_model = load_model('./model_checkpoint/source_add_target_{}.h5'.format(vox_grid))"
   ]
  },
  {
   "cell_type": "code",
   "execution_count": 34,
   "metadata": {},
   "outputs": [],
   "source": [
    "dann_model = dann()\n",
    "dann_model.load_weights('./model_checkpoint/dann_{}.h5'.format(vox_grid))"
   ]
  },
  {
   "cell_type": "code",
   "execution_count": 44,
   "metadata": {
    "id": "yxuZEEft1eaG"
   },
   "outputs": [],
   "source": [
    "def show_predict(model,input,label):\n",
    "  pred = model.predict(input)\n",
    "  if len(pred)==2:\n",
    "    pred=pred[1]\n",
    "  print(\"rmse:\",round(rmse2(pred,label),4))\n",
    "  y_pred =scaler.inverse_transform(pred)\n",
    "  y_true =scaler.inverse_transform(label)\n",
    "  print(\"mape:\",round(mape2(y_true,y_pred),4))\n",
    "  return y_true,y_pred"
   ]
  },
  {
   "cell_type": "code",
   "execution_count": 45,
   "metadata": {
    "colab": {
     "base_uri": "https://localhost:8080/"
    },
    "id": "Rcsqyhl542CN",
    "outputId": "676a9a9b-1064-48ac-c5d8-08517dfc1803"
   },
   "outputs": [
    {
     "name": "stdout",
     "output_type": "stream",
     "text": [
      "rmse: 0.0322\n",
      "mape: 3.0186\n",
      "rmse: 0.2578\n",
      "mape: 62.6935\n"
     ]
    }
   ],
   "source": [
    "y_true,y_pred = show_predict(source_only_model,testX,testY)\n",
    "y_true,y_pred = show_predict(source_only_model,testDX,testDY)"
   ]
  },
  {
   "cell_type": "code",
   "execution_count": 46,
   "metadata": {},
   "outputs": [
    {
     "name": "stdout",
     "output_type": "stream",
     "text": [
      "rmse: 0.0285\n",
      "mape: 2.7875\n",
      "rmse: 0.053\n",
      "mape: 11.3794\n"
     ]
    }
   ],
   "source": [
    "y_true,y_pred = show_predict(source_add_target_model,testX,testY)\n",
    "y_true,y_pred = show_predict(source_add_target_model,testDX,testDY)"
   ]
  },
  {
   "cell_type": "code",
   "execution_count": 56,
   "metadata": {},
   "outputs": [
    {
     "name": "stdout",
     "output_type": "stream",
     "text": [
      "rmse: 0.0316\n",
      "mape: 3.0702\n",
      "rmse: 0.0389\n",
      "mape: 7.3612\n"
     ]
    }
   ],
   "source": [
    "y_true,y_pred = show_predict(dann_model,testX,testY)\n",
    "y_true,y_pred = show_predict(dann_model,testDX,testDY)"
   ]
  },
  {
   "cell_type": "code",
   "execution_count": 52,
   "metadata": {},
   "outputs": [],
   "source": [
    "def percent(value1, value2):\n",
    "    result = 1-(value2/value1)\n",
    "    print(round(result,4)*100,'%')"
   ]
  },
  {
   "cell_type": "code",
   "execution_count": 55,
   "metadata": {},
   "outputs": [
    {
     "name": "stdout",
     "output_type": "stream",
     "text": [
      "-10.879999999999999 %\n",
      "-10.14 %\n",
      "26.6 %\n",
      "35.31 %\n"
     ]
    }
   ],
   "source": [
    "percent(0.0285,0.0316)\n",
    "percent(2.7875,3.0702)\n",
    "percent(0.053,0.0389)\n",
    "percent(11.3794,7.3612)"
   ]
  }
 ],
 "metadata": {
  "accelerator": "GPU",
  "colab": {
   "name": "dann_model.ipynb",
   "provenance": []
  },
  "kernelspec": {
   "display_name": "Python 3",
   "language": "python",
   "name": "python3"
  },
  "language_info": {
   "codemirror_mode": {
    "name": "ipython",
    "version": 3
   },
   "file_extension": ".py",
   "mimetype": "text/x-python",
   "name": "python",
   "nbconvert_exporter": "python",
   "pygments_lexer": "ipython3",
   "version": "3.6.12"
  }
 },
 "nbformat": 4,
 "nbformat_minor": 1
}
